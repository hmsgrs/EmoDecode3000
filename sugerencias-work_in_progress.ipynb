{
 "cells": [
  {
   "cell_type": "code",
   "execution_count": 1,
   "metadata": {},
   "outputs": [
    {
     "name": "stdout",
     "output_type": "stream",
     "text": [
      "WARNING:tensorflow:From c:\\Users\\hugom\\AppData\\Local\\Programs\\Python\\Python311\\Lib\\site-packages\\keras\\src\\losses.py:2976: The name tf.losses.sparse_softmax_cross_entropy is deprecated. Please use tf.compat.v1.losses.sparse_softmax_cross_entropy instead.\n",
      "\n"
     ]
    }
   ],
   "source": [
    "import numpy as np\n",
    "import pandas as pd\n",
    "import matplotlib.pyplot as plt\n",
    "import seaborn as sns\n",
    "import os\n",
    "from tensorflow import keras\n",
    "import cv2\n",
    "from skimage.io import imread\n",
    "from sklearn.metrics import confusion_matrix"
   ]
  },
  {
   "cell_type": "code",
   "execution_count": 11,
   "metadata": {},
   "outputs": [],
   "source": [
    "df= pd.read_csv('.\\\\source\\\\train_set.csv')"
   ]
  },
  {
   "cell_type": "code",
   "execution_count": 12,
   "metadata": {},
   "outputs": [
    {
     "data": {
      "text/html": [
       "<div>\n",
       "<style scoped>\n",
       "    .dataframe tbody tr th:only-of-type {\n",
       "        vertical-align: middle;\n",
       "    }\n",
       "\n",
       "    .dataframe tbody tr th {\n",
       "        vertical-align: top;\n",
       "    }\n",
       "\n",
       "    .dataframe thead th {\n",
       "        text-align: right;\n",
       "    }\n",
       "</style>\n",
       "<table border=\"1\" class=\"dataframe\">\n",
       "  <thead>\n",
       "    <tr style=\"text-align: right;\">\n",
       "      <th></th>\n",
       "      <th>id_img</th>\n",
       "      <th>path</th>\n",
       "      <th>label</th>\n",
       "    </tr>\n",
       "  </thead>\n",
       "  <tbody>\n",
       "    <tr>\n",
       "      <th>28816</th>\n",
       "      <td>9969</td>\n",
       "      <td>../data/images/train/surprise\\9969.jpg</td>\n",
       "      <td>surprise</td>\n",
       "    </tr>\n",
       "    <tr>\n",
       "      <th>28817</th>\n",
       "      <td>9985</td>\n",
       "      <td>../data/images/train/surprise\\9985.jpg</td>\n",
       "      <td>surprise</td>\n",
       "    </tr>\n",
       "    <tr>\n",
       "      <th>28818</th>\n",
       "      <td>9990</td>\n",
       "      <td>../data/images/train/surprise\\9990.jpg</td>\n",
       "      <td>surprise</td>\n",
       "    </tr>\n",
       "    <tr>\n",
       "      <th>28819</th>\n",
       "      <td>9992</td>\n",
       "      <td>../data/images/train/surprise\\9992.jpg</td>\n",
       "      <td>surprise</td>\n",
       "    </tr>\n",
       "    <tr>\n",
       "      <th>28820</th>\n",
       "      <td>9996</td>\n",
       "      <td>../data/images/train/surprise\\9996.jpg</td>\n",
       "      <td>surprise</td>\n",
       "    </tr>\n",
       "  </tbody>\n",
       "</table>\n",
       "</div>"
      ],
      "text/plain": [
       "       id_img                                    path     label\n",
       "28816    9969  ../data/images/train/surprise\\9969.jpg  surprise\n",
       "28817    9985  ../data/images/train/surprise\\9985.jpg  surprise\n",
       "28818    9990  ../data/images/train/surprise\\9990.jpg  surprise\n",
       "28819    9992  ../data/images/train/surprise\\9992.jpg  surprise\n",
       "28820    9996  ../data/images/train/surprise\\9996.jpg  surprise"
      ]
     },
     "execution_count": 12,
     "metadata": {},
     "output_type": "execute_result"
    }
   ],
   "source": [
    "df.tail()"
   ]
  },
  {
   "cell_type": "code",
   "execution_count": 8,
   "metadata": {},
   "outputs": [
    {
     "data": {
      "text/plain": [
       "label\n",
       "happy       7164\n",
       "neutral     4982\n",
       "sad         4938\n",
       "fear        4103\n",
       "angry       3993\n",
       "surprise    3205\n",
       "disgust      436\n",
       "Name: count, dtype: int64"
      ]
     },
     "execution_count": 8,
     "metadata": {},
     "output_type": "execute_result"
    }
   ],
   "source": [
    "df.value_counts('label')"
   ]
  },
  {
   "cell_type": "markdown",
   "metadata": {},
   "source": [
    "### Cambiar los paths para que cv2.read los entienda"
   ]
  },
  {
   "cell_type": "code",
   "execution_count": 13,
   "metadata": {},
   "outputs": [],
   "source": [
    "df['path'] = df['path'].str.replace('\\\\', '/')\n",
    "df['path'] = df['path'].str.replace('data', './source/data/data')\n",
    "df['path'] = df['path'].str.replace('../', '')"
   ]
  },
  {
   "cell_type": "code",
   "execution_count": 14,
   "metadata": {},
   "outputs": [
    {
     "data": {
      "text/html": [
       "<div>\n",
       "<style scoped>\n",
       "    .dataframe tbody tr th:only-of-type {\n",
       "        vertical-align: middle;\n",
       "    }\n",
       "\n",
       "    .dataframe tbody tr th {\n",
       "        vertical-align: top;\n",
       "    }\n",
       "\n",
       "    .dataframe thead th {\n",
       "        text-align: right;\n",
       "    }\n",
       "</style>\n",
       "<table border=\"1\" class=\"dataframe\">\n",
       "  <thead>\n",
       "    <tr style=\"text-align: right;\">\n",
       "      <th></th>\n",
       "      <th>id_img</th>\n",
       "      <th>path</th>\n",
       "      <th>label</th>\n",
       "    </tr>\n",
       "  </thead>\n",
       "  <tbody>\n",
       "    <tr>\n",
       "      <th>0</th>\n",
       "      <td>0</td>\n",
       "      <td>./source/data/data/images/train/angry/0.jpg</td>\n",
       "      <td>angry</td>\n",
       "    </tr>\n",
       "  </tbody>\n",
       "</table>\n",
       "</div>"
      ],
      "text/plain": [
       "   id_img                                         path  label\n",
       "0       0  ./source/data/data/images/train/angry/0.jpg  angry"
      ]
     },
     "execution_count": 14,
     "metadata": {},
     "output_type": "execute_result"
    }
   ],
   "source": [
    "df.head(1)"
   ]
  },
  {
   "cell_type": "markdown",
   "metadata": {},
   "source": [
    "### Función para cargar imágenes como arrays, siguiendo los paths que existen en el archivo de train.\n"
   ]
  },
  {
   "cell_type": "code",
   "execution_count": 15,
   "metadata": {},
   "outputs": [],
   "source": [
    "def cargar_y_convertir_imagen(ruta_imagen):\n",
    "    image = cv2.imread(ruta_imagen, 0)\n",
    "    image_array = np.array(image)\n",
    "    return image_array\n",
    "\n",
    "df['images'] =df['path'].apply(cargar_y_convertir_imagen)"
   ]
  },
  {
   "cell_type": "code",
   "execution_count": 16,
   "metadata": {},
   "outputs": [
    {
     "data": {
      "text/html": [
       "<div>\n",
       "<style scoped>\n",
       "    .dataframe tbody tr th:only-of-type {\n",
       "        vertical-align: middle;\n",
       "    }\n",
       "\n",
       "    .dataframe tbody tr th {\n",
       "        vertical-align: top;\n",
       "    }\n",
       "\n",
       "    .dataframe thead th {\n",
       "        text-align: right;\n",
       "    }\n",
       "</style>\n",
       "<table border=\"1\" class=\"dataframe\">\n",
       "  <thead>\n",
       "    <tr style=\"text-align: right;\">\n",
       "      <th></th>\n",
       "      <th>id_img</th>\n",
       "      <th>path</th>\n",
       "      <th>label</th>\n",
       "      <th>images</th>\n",
       "    </tr>\n",
       "  </thead>\n",
       "  <tbody>\n",
       "    <tr>\n",
       "      <th>0</th>\n",
       "      <td>0</td>\n",
       "      <td>./source/data/data/images/train/angry/0.jpg</td>\n",
       "      <td>angry</td>\n",
       "      <td>[[72, 78, 81, 75, 59, 54, 63, 61, 55, 55, 62, ...</td>\n",
       "    </tr>\n",
       "    <tr>\n",
       "      <th>1</th>\n",
       "      <td>1</td>\n",
       "      <td>./source/data/data/images/train/angry/1.jpg</td>\n",
       "      <td>angry</td>\n",
       "      <td>[[152, 149, 147, 157, 146, 133, 114, 138, 170,...</td>\n",
       "    </tr>\n",
       "    <tr>\n",
       "      <th>2</th>\n",
       "      <td>10</td>\n",
       "      <td>./source/data/data/images/train/angry/10.jpg</td>\n",
       "      <td>angry</td>\n",
       "      <td>[[29, 25, 21, 23, 26, 24, 49, 67, 85, 101, 121...</td>\n",
       "    </tr>\n",
       "    <tr>\n",
       "      <th>3</th>\n",
       "      <td>10002</td>\n",
       "      <td>./source/data/data/images/train/angry/10002.jpg</td>\n",
       "      <td>angry</td>\n",
       "      <td>[[32, 23, 20, 56, 43, 34, 38, 46, 92, 99, 34, ...</td>\n",
       "    </tr>\n",
       "    <tr>\n",
       "      <th>4</th>\n",
       "      <td>10016</td>\n",
       "      <td>./source/data/data/images/train/angry/10016.jpg</td>\n",
       "      <td>angry</td>\n",
       "      <td>[[222, 218, 202, 189, 199, 208, 193, 134, 103,...</td>\n",
       "    </tr>\n",
       "  </tbody>\n",
       "</table>\n",
       "</div>"
      ],
      "text/plain": [
       "   id_img                                             path  label  \\\n",
       "0       0      ./source/data/data/images/train/angry/0.jpg  angry   \n",
       "1       1      ./source/data/data/images/train/angry/1.jpg  angry   \n",
       "2      10     ./source/data/data/images/train/angry/10.jpg  angry   \n",
       "3   10002  ./source/data/data/images/train/angry/10002.jpg  angry   \n",
       "4   10016  ./source/data/data/images/train/angry/10016.jpg  angry   \n",
       "\n",
       "                                              images  \n",
       "0  [[72, 78, 81, 75, 59, 54, 63, 61, 55, 55, 62, ...  \n",
       "1  [[152, 149, 147, 157, 146, 133, 114, 138, 170,...  \n",
       "2  [[29, 25, 21, 23, 26, 24, 49, 67, 85, 101, 121...  \n",
       "3  [[32, 23, 20, 56, 43, 34, 38, 46, 92, 99, 34, ...  \n",
       "4  [[222, 218, 202, 189, 199, 208, 193, 134, 103,...  "
      ]
     },
     "execution_count": 16,
     "metadata": {},
     "output_type": "execute_result"
    }
   ],
   "source": [
    "df.head()"
   ]
  },
  {
   "cell_type": "code",
   "execution_count": 17,
   "metadata": {},
   "outputs": [],
   "source": [
    "pixel_array = np.array(df['images'].apply(np.array).tolist())"
   ]
  },
  {
   "cell_type": "code",
   "execution_count": 18,
   "metadata": {},
   "outputs": [
    {
     "data": {
      "text/plain": [
       "(28821, 48, 48)"
      ]
     },
     "execution_count": 18,
     "metadata": {},
     "output_type": "execute_result"
    }
   ],
   "source": [
    "pixel_array.shape"
   ]
  },
  {
   "cell_type": "code",
   "execution_count": 19,
   "metadata": {},
   "outputs": [],
   "source": [
    "pixel_array  = pixel_array / 255.0"
   ]
  },
  {
   "cell_type": "code",
   "execution_count": 20,
   "metadata": {},
   "outputs": [
    {
     "name": "stdout",
     "output_type": "stream",
     "text": [
      "[[0.28235294 0.30588235 0.31764706 ... 0.20392157 0.16862745 0.15686275]\n",
      " [0.25490196 0.24313725 0.23137255 ... 0.21568627 0.20392157 0.17647059]\n",
      " [0.18431373 0.16470588 0.23529412 ... 0.18431373 0.21176471 0.19215686]\n",
      " ...\n",
      " [0.35686275 0.25490196 0.18039216 ... 0.29019608 0.21176471 0.16862745]\n",
      " [0.29803922 0.31372549 0.29803922 ... 0.42352941 0.27058824 0.18039216]\n",
      " [0.30196078 0.29019608 0.31764706 ... 0.41176471 0.42352941 0.32156863]]\n",
      "[[0.28235294 0.30588235 0.31764706 ... 0.20392157 0.16862745 0.15686275]\n",
      " [0.25490196 0.24313725 0.23137255 ... 0.21568627 0.20392157 0.17647059]\n",
      " [0.18431373 0.16470588 0.23529412 ... 0.18431373 0.21176471 0.19215686]\n",
      " ...\n",
      " [0.35686275 0.25490196 0.18039216 ... 0.29019608 0.21176471 0.16862745]\n",
      " [0.29803922 0.31372549 0.29803922 ... 0.42352941 0.27058824 0.18039216]\n",
      " [0.30196078 0.29019608 0.31764706 ... 0.41176471 0.42352941 0.32156863]]\n"
     ]
    },
    {
     "data": {
      "image/png": "[encoded data removed]",
      "text/plain": [
       "<Figure size 640x480 with 1 Axes>"
      ]
     },
     "metadata": {},
     "output_type": "display_data"
    }
   ],
   "source": [
    "import matplotlib.pyplot as plt\n",
    "plt.imshow(pixel_array[0])\n",
    "print(pixel_array[0])\n",
    "print(pixel_array[0])"
   ]
  },
  {
   "cell_type": "code",
   "execution_count": 21,
   "metadata": {},
   "outputs": [
    {
     "data": {
      "text/plain": [
       "{'angry': 0,\n",
       " 'disgust': 1,\n",
       " 'fear': 2,\n",
       " 'happy': 3,\n",
       " 'neutral': 4,\n",
       " 'sad': 5,\n",
       " 'surprise': 6}"
      ]
     },
     "execution_count": 21,
     "metadata": {},
     "output_type": "execute_result"
    }
   ],
   "source": [
    "class_names = ['angry', 'disgust', 'fear', 'happy', 'neutral', 'sad','surprise']\n",
    "class_names_label = {class_name:i for i, class_name in enumerate(class_names)}\n",
    "class_names_label"
   ]
  },
  {
   "cell_type": "code",
   "execution_count": 22,
   "metadata": {},
   "outputs": [],
   "source": [
    "def read_label(path):\n",
    "    y = []\n",
    "\n",
    "    for folder in os.listdir(path):\n",
    "        label = class_names_label[folder]\n",
    "        folder_path = os.path.join(path, folder)\n",
    "\n",
    "        for file in os.listdir(folder_path):\n",
    "\n",
    "            y.append(label)\n",
    "    \n",
    "    return np.array(y)"
   ]
  },
  {
   "cell_type": "code",
   "execution_count": 25,
   "metadata": {},
   "outputs": [],
   "source": [
    "y=read_label('./source/data/data/images/train/')"
   ]
  },
  {
   "cell_type": "code",
   "execution_count": 26,
   "metadata": {},
   "outputs": [
    {
     "data": {
      "text/plain": [
       "(28821,)"
      ]
     },
     "execution_count": 26,
     "metadata": {},
     "output_type": "execute_result"
    }
   ],
   "source": [
    "y.shape"
   ]
  },
  {
   "cell_type": "code",
   "execution_count": 27,
   "metadata": {},
   "outputs": [],
   "source": [
    "from sklearn.model_selection import train_test_split"
   ]
  },
  {
   "cell_type": "code",
   "execution_count": 28,
   "metadata": {},
   "outputs": [],
   "source": [
    "X_train, X_test, y_train, y_test = train_test_split(pixel_array, y, shuffle=True, random_state=42, test_size=.2)"
   ]
  },
  {
   "cell_type": "code",
   "execution_count": 101,
   "metadata": {},
   "outputs": [],
   "source": [
    "model = keras.Sequential([\n",
    "    keras.layers.Conv2D(128,(3,3), activation=\"relu\", input_shape=(48, 48, 1)),\n",
    "    keras.layers.MaxPooling2D(2,2),\n",
    "    keras.layers.Dropout(0.1),\n",
    "\n",
    "    keras.layers.Conv2D(64,(3,3), activation=\"relu\"),\n",
    "    keras.layers.MaxPooling2D(2,2),\n",
    "    keras.layers.Dropout(0.1),\n",
    "\n",
    "    keras.layers.Conv2D(64,(3,3), activation=\"relu\"),\n",
    "    keras.layers.MaxPooling2D(2,2),\n",
    "    keras.layers.Dropout(0.1),\n",
    "\n",
    "    keras.layers.Flatten(),\n",
    "    keras.layers.Dense(128, activation=\"relu\"),\n",
    "    keras.layers.Dense(32, activation=\"relu\"),\n",
    "    keras.layers.Dropout(0.1),\n",
    "    keras.layers.Dense(7, activation=\"softmax\")\n",
    "])"
   ]
  },
  {
   "cell_type": "code",
   "execution_count": null,
   "metadata": {},
   "outputs": [],
   "source": [
    "# COPY CÓDIGO ANTERIOR-Añade kernel_regularizer a las capas\n",
    "from tensorflow.keras import regularizers\n",
    "\n",
    "model = keras.Sequential([\n",
    "    keras.layers.Conv2D(128, (3,3), activation=\"relu\", kernel_regularizer=regularizers.l2(0.01), input_shape=(48, 48, 1)),\n",
    "    keras.layers.MaxPooling2D(2,2),\n",
    "    keras.layers.Dropout(0.1),\n",
    "\n",
    "    keras.layers.Conv2D(64, (3,3), activation=\"relu\", kernel_regularizer=regularizers.l2(0.01)),\n",
    "    keras.layers.MaxPooling2D(2,2),\n",
    "    keras.layers.Dropout(0.1),\n",
    "\n",
    "    keras.layers.Conv2D(64, (3,3), activation=\"relu\", kernel_regularizer=regularizers.l2(0.01)),\n",
    "    keras.layers.MaxPooling2D(2,2),\n",
    "    keras.layers.Dropout(0.1),\n",
    "\n",
    "    keras.layers.Conv2D(32, (3,3), activation=\"relu\", kernel_regularizer=regularizers.l2(0.01)),     # Añade otra capa\n",
    "    keras.layers.MaxPooling2D(2,2),\n",
    "    keras.layers.Dropout(0.1),\n",
    "\n",
    "    keras.layers.Flatten(),\n",
    "    keras.layers.Dense(128, activation=\"relu\"),\n",
    "    keras.layers.Dense(64, activation=\"relu\"),      # Aumenta en 64\n",
    "    keras.layers.Dropout(0.1),\n",
    "    keras.layers.Dense(32, activation=\"relu\"),      # \n",
    "    keras.layers.Dropout(0.1),                      #\n",
    "    keras.layers.Dense(7, activation=\"softmax\")\n",
    "])\n"
   ]
  },
  {
   "cell_type": "code",
   "execution_count": 102,
   "metadata": {},
   "outputs": [],
   "source": [
    "model.compile(optimizer='adam', loss=\"sparse_categorical_crossentropy\", metrics=['accuracy'])"
   ]
  },
  {
   "cell_type": "code",
   "execution_count": null,
   "metadata": {},
   "outputs": [],
   "source": [
    "# COPY.\n",
    "# En optimizer, se establece una tasa de aprendizaje.\n",
    "model.compile(optimizer=keras.optimizers.Adam(learning_rate=0.001), loss=\"sparse_categorical_crossentropy\", metrics=['accuracy'])"
   ]
  },
  {
   "cell_type": "code",
   "execution_count": null,
   "metadata": {},
   "outputs": [],
   "source": [
    "# COPY\n",
    "# Experimenta con técnicas de aumento de datos, como rotación, traslación y cambio de escala para aumentar la variabilidad del train.\n",
    "from tensorflow.keras.preprocessing.image import ImageDataGenerator\n",
    "\n",
    "datagen = ImageDataGenerator(rotation_range=20, width_shift_range=0.2, height_shift_range=0.2, shear_range=0.2, zoom_range=0.2, horizontal_flip=True)\n",
    "\n",
    "datagen.fit(X_train)"
   ]
  },
  {
   "cell_type": "code",
   "execution_count": 103,
   "metadata": {},
   "outputs": [
    {
     "name": "stdout",
     "output_type": "stream",
     "text": [
      "Epoch 1/15\n",
      "73/73 [==============================] - 41s 550ms/step - loss: 1.8307 - accuracy: 0.2342 - val_loss: 1.7813 - val_accuracy: 0.2489\n",
      "Epoch 2/15\n",
      "73/73 [==============================] - 37s 511ms/step - loss: 1.7637 - accuracy: 0.2707 - val_loss: 1.6799 - val_accuracy: 0.3255\n",
      "Epoch 3/15\n",
      "73/73 [==============================] - 38s 521ms/step - loss: 1.6329 - accuracy: 0.3594 - val_loss: 1.5679 - val_accuracy: 0.3990\n",
      "Epoch 4/15\n",
      "73/73 [==============================] - 37s 508ms/step - loss: 1.5423 - accuracy: 0.4022 - val_loss: 1.4910 - val_accuracy: 0.4252\n",
      "Epoch 5/15\n",
      "73/73 [==============================] - 38s 514ms/step - loss: 1.4772 - accuracy: 0.4340 - val_loss: 1.4133 - val_accuracy: 0.4545\n",
      "Epoch 6/15\n",
      "73/73 [==============================] - 39s 541ms/step - loss: 1.4185 - accuracy: 0.4612 - val_loss: 1.4052 - val_accuracy: 0.4586\n",
      "Epoch 7/15\n",
      "73/73 [==============================] - 36s 498ms/step - loss: 1.3775 - accuracy: 0.4703 - val_loss: 1.3478 - val_accuracy: 0.4857\n",
      "Epoch 8/15\n",
      "73/73 [==============================] - 36s 492ms/step - loss: 1.3414 - accuracy: 0.4890 - val_loss: 1.3220 - val_accuracy: 0.4889\n",
      "Epoch 9/15\n",
      "73/73 [==============================] - 36s 490ms/step - loss: 1.3061 - accuracy: 0.5037 - val_loss: 1.2925 - val_accuracy: 0.5033\n",
      "Epoch 10/15\n",
      "73/73 [==============================] - 37s 510ms/step - loss: 1.2807 - accuracy: 0.5121 - val_loss: 1.2703 - val_accuracy: 0.5137\n",
      "Epoch 11/15\n",
      "73/73 [==============================] - 41s 560ms/step - loss: 1.2357 - accuracy: 0.5316 - val_loss: 1.2618 - val_accuracy: 0.5206\n",
      "Epoch 12/15\n",
      "73/73 [==============================] - 37s 503ms/step - loss: 1.2150 - accuracy: 0.5439 - val_loss: 1.2723 - val_accuracy: 0.5113\n",
      "Epoch 13/15\n",
      "73/73 [==============================] - 36s 488ms/step - loss: 1.1817 - accuracy: 0.5569 - val_loss: 1.2812 - val_accuracy: 0.5223\n",
      "Epoch 14/15\n",
      "73/73 [==============================] - 36s 489ms/step - loss: 1.1568 - accuracy: 0.5709 - val_loss: 1.2603 - val_accuracy: 0.5243\n",
      "Epoch 15/15\n",
      "73/73 [==============================] - 36s 489ms/step - loss: 1.1421 - accuracy: 0.5728 - val_loss: 1.2399 - val_accuracy: 0.5336\n"
     ]
    }
   ],
   "source": [
    "history = model.fit(X_train, y_train, batch_size=256, epochs=15, validation_split=0.2)\n",
    "\n",
    "# COPY. Aumenta las épocas y utiliza datagen.flow (...)\n",
    "# history = model.fit(datagen.flow(X_train, y_train, batch_size=256), epochs=30, validation_data=(X_test, y_test))"
   ]
  },
  {
   "cell_type": "code",
   "execution_count": 105,
   "metadata": {},
   "outputs": [
    {
     "data": {
      "text/plain": [
       "<matplotlib.legend.Legend at 0x2ad43386fd0>"
      ]
     },
     "execution_count": 105,
     "metadata": {},
     "output_type": "execute_result"
    },
    {
     "data": {
      "image/png": "[encoded data removed]",
      "text/plain": [
       "<Figure size 640x480 with 1 Axes>"
      ]
     },
     "metadata": {},
     "output_type": "display_data"
    }
   ],
   "source": [
    "df_hist = pd.DataFrame(history.history, index=np.arange(1,16))\n",
    "\n",
    "plt.plot(df_hist['val_accuracy'], label=\"Val Accuracy\")\n",
    "plt.plot(df_hist['accuracy'], label=\"Train Accuracy\")\n",
    "plt.title(\"Training CNN\")\n",
    "plt.xlabel(\"Epochs\")\n",
    "plt.ylabel(\"Accuracy\")\n",
    "plt.xticks(range(1,16))\n",
    "plt.legend()"
   ]
  },
  {
   "cell_type": "code",
   "execution_count": 66,
   "metadata": {},
   "outputs": [],
   "source": [
    "df_test = pd.read_csv('.\\\\source\\\\test_set.csv')\n",
    " "
   ]
  },
  {
   "cell_type": "code",
   "execution_count": 67,
   "metadata": {},
   "outputs": [
    {
     "data": {
      "text/html": [
       "<div>\n",
       "<style scoped>\n",
       "    .dataframe tbody tr th:only-of-type {\n",
       "        vertical-align: middle;\n",
       "    }\n",
       "\n",
       "    .dataframe tbody tr th {\n",
       "        vertical-align: top;\n",
       "    }\n",
       "\n",
       "    .dataframe thead th {\n",
       "        text-align: right;\n",
       "    }\n",
       "</style>\n",
       "<table border=\"1\" class=\"dataframe\">\n",
       "  <thead>\n",
       "    <tr style=\"text-align: right;\">\n",
       "      <th></th>\n",
       "      <th>id_img</th>\n",
       "    </tr>\n",
       "  </thead>\n",
       "  <tbody>\n",
       "    <tr>\n",
       "      <th>0</th>\n",
       "      <td>10052</td>\n",
       "    </tr>\n",
       "  </tbody>\n",
       "</table>\n",
       "</div>"
      ],
      "text/plain": [
       "   id_img\n",
       "0   10052"
      ]
     },
     "execution_count": 67,
     "metadata": {},
     "output_type": "execute_result"
    }
   ],
   "source": [
    "df_test.head(1)"
   ]
  },
  {
   "cell_type": "code",
   "execution_count": 85,
   "metadata": {},
   "outputs": [
    {
     "data": {
      "text/plain": [
       "(7066, 3)"
      ]
     },
     "execution_count": 85,
     "metadata": {},
     "output_type": "execute_result"
    }
   ],
   "source": [
    "df_test.shape"
   ]
  },
  {
   "cell_type": "code",
   "execution_count": 68,
   "metadata": {},
   "outputs": [],
   "source": [
    "def agregar_rutas_imagenes(df, ruta_carpeta):\n",
    "\n",
    "    rutas_imagenes = []\n",
    "    for idx, fila in df.iterrows():\n",
    "        id_imagen = fila['id_img'] \n",
    "        nombre_imagen = f\"{id_imagen}.jpg\" \n",
    "        ruta_imagen = os.path.join(ruta_carpeta, nombre_imagen)\n",
    "        rutas_imagenes.append(ruta_imagen)\n",
    "\n",
    "    df['RutaImagen'] = rutas_imagenes\n",
    "\n",
    "ruta_carpeta_imagenes = './source/data/data/images/test/'\n",
    "\n",
    "agregar_rutas_imagenes(df_test, ruta_carpeta_imagenes)"
   ]
  },
  {
   "cell_type": "code",
   "execution_count": 71,
   "metadata": {},
   "outputs": [
    {
     "data": {
      "text/html": [
       "<div>\n",
       "<style scoped>\n",
       "    .dataframe tbody tr th:only-of-type {\n",
       "        vertical-align: middle;\n",
       "    }\n",
       "\n",
       "    .dataframe tbody tr th {\n",
       "        vertical-align: top;\n",
       "    }\n",
       "\n",
       "    .dataframe thead th {\n",
       "        text-align: right;\n",
       "    }\n",
       "</style>\n",
       "<table border=\"1\" class=\"dataframe\">\n",
       "  <thead>\n",
       "    <tr style=\"text-align: right;\">\n",
       "      <th></th>\n",
       "      <th>id_img</th>\n",
       "      <th>RutaImagen</th>\n",
       "      <th>images</th>\n",
       "    </tr>\n",
       "  </thead>\n",
       "  <tbody>\n",
       "    <tr>\n",
       "      <th>0</th>\n",
       "      <td>10052</td>\n",
       "      <td>./source/data/data/images/test/10052.jpg</td>\n",
       "      <td>[[58, 66, 70, 77, 117, 154, 137, 108, 76, 70, ...</td>\n",
       "    </tr>\n",
       "  </tbody>\n",
       "</table>\n",
       "</div>"
      ],
      "text/plain": [
       "   id_img                                RutaImagen  \\\n",
       "0   10052  ./source/data/data/images/test/10052.jpg   \n",
       "\n",
       "                                              images  \n",
       "0  [[58, 66, 70, 77, 117, 154, 137, 108, 76, 70, ...  "
      ]
     },
     "execution_count": 71,
     "metadata": {},
     "output_type": "execute_result"
    }
   ],
   "source": [
    "df_test.head(1)"
   ]
  },
  {
   "cell_type": "code",
   "execution_count": 70,
   "metadata": {},
   "outputs": [],
   "source": [
    "df_test['images'] =df_test['RutaImagen'].apply(cargar_y_convertir_imagen)"
   ]
  },
  {
   "cell_type": "code",
   "execution_count": 72,
   "metadata": {},
   "outputs": [],
   "source": [
    "pixel_array_test = np.array(df_test['images'].apply(np.array).tolist())"
   ]
  },
  {
   "cell_type": "code",
   "execution_count": 80,
   "metadata": {},
   "outputs": [],
   "source": [
    "pixel_array_test  = pixel_array_test /255"
   ]
  },
  {
   "cell_type": "code",
   "execution_count": 81,
   "metadata": {},
   "outputs": [
    {
     "data": {
      "text/plain": [
       "array([[[0.22745098, 0.25882353, 0.2745098 , ..., 0.2       ,\n",
       "         0.18431373, 0.1372549 ],\n",
       "        [0.24313725, 0.25098039, 0.28627451, ..., 0.23137255,\n",
       "         0.2       , 0.16470588],\n",
       "        [0.25882353, 0.27058824, 0.34117647, ..., 0.22745098,\n",
       "         0.21176471, 0.20784314],\n",
       "        ...,\n",
       "        [0.03137255, 0.05882353, 0.0745098 , ..., 0.01960784,\n",
       "         0.02745098, 0.03137255],\n",
       "        [0.02352941, 0.05490196, 0.06666667, ..., 0.01568627,\n",
       "         0.02745098, 0.03921569],\n",
       "        [0.03137255, 0.05882353, 0.07843137, ..., 0.01960784,\n",
       "         0.02745098, 0.03529412]],\n",
       "\n",
       "       [[0.09019608, 0.10196078, 0.08235294, ..., 0.85098039,\n",
       "         0.8627451 , 0.85490196],\n",
       "        [0.09803922, 0.14117647, 0.0627451 , ..., 0.81960784,\n",
       "         0.79607843, 0.81568627],\n",
       "        [0.11764706, 0.10980392, 0.04313725, ..., 0.70196078,\n",
       "         0.83921569, 0.96078431],\n",
       "        ...,\n",
       "        [0.18823529, 0.16862745, 0.21568627, ..., 0.8745098 ,\n",
       "         0.87058824, 0.87058824],\n",
       "        [0.14117647, 0.07843137, 0.25098039, ..., 0.98823529,\n",
       "         1.        , 1.        ],\n",
       "        [0.23137255, 0.21960784, 0.18039216, ..., 0.98823529,\n",
       "         0.98823529, 0.99215686]],\n",
       "\n",
       "       [[0.78823529, 0.71372549, 0.71372549, ..., 0.80392157,\n",
       "         0.94117647, 0.9372549 ],\n",
       "        [0.79215686, 0.72156863, 0.70980392, ..., 0.83529412,\n",
       "         0.94509804, 0.92941176],\n",
       "        [0.80392157, 0.74509804, 0.71764706, ..., 0.85882353,\n",
       "         0.9372549 , 0.9372549 ],\n",
       "        ...,\n",
       "        [0.61960784, 0.69803922, 0.76862745, ..., 0.79607843,\n",
       "         0.85882353, 0.83921569],\n",
       "        [0.61176471, 0.65882353, 0.78039216, ..., 0.78823529,\n",
       "         0.83529412, 0.76078431],\n",
       "        [0.68235294, 0.54901961, 0.72156863, ..., 0.74509804,\n",
       "         0.78039216, 0.81176471]],\n",
       "\n",
       "       ...,\n",
       "\n",
       "       [[0.98039216, 0.99215686, 0.99215686, ..., 0.91764706,\n",
       "         0.90588235, 0.91764706],\n",
       "        [0.98431373, 0.98039216, 0.98039216, ..., 0.91764706,\n",
       "         0.90980392, 0.92156863],\n",
       "        [0.98039216, 0.97254902, 0.98039216, ..., 0.91764706,\n",
       "         0.90980392, 0.91372549],\n",
       "        ...,\n",
       "        [0.7372549 , 0.49411765, 0.16078431, ..., 0.19607843,\n",
       "         0.24705882, 0.35294118],\n",
       "        [0.42745098, 0.30588235, 0.10588235, ..., 0.45098039,\n",
       "         0.47058824, 0.62352941],\n",
       "        [0.47843137, 0.29019608, 0.09803922, ..., 0.4627451 ,\n",
       "         0.33333333, 0.39607843]],\n",
       "\n",
       "       [[0.89411765, 0.87843137, 0.89019608, ..., 0.51372549,\n",
       "         0.64705882, 0.2627451 ],\n",
       "        [0.83921569, 0.82352941, 0.85490196, ..., 0.4       ,\n",
       "         0.57254902, 0.23921569],\n",
       "        [0.81960784, 0.77647059, 0.81960784, ..., 0.37254902,\n",
       "         0.42745098, 0.16078431],\n",
       "        ...,\n",
       "        [0.97254902, 0.96862745, 0.96862745, ..., 0.25490196,\n",
       "         0.68235294, 0.95686275],\n",
       "        [0.98039216, 0.97647059, 0.97647059, ..., 0.21176471,\n",
       "         0.69803922, 0.91372549],\n",
       "        [0.98039216, 0.97647059, 0.97254902, ..., 0.2       ,\n",
       "         0.7254902 , 0.89803922]],\n",
       "\n",
       "       [[0.30588235, 0.45490196, 0.38431373, ..., 0.28627451,\n",
       "         0.29019608, 0.16078431],\n",
       "        [0.44313725, 0.4745098 , 0.34117647, ..., 0.21568627,\n",
       "         0.15686275, 0.23529412],\n",
       "        [0.45490196, 0.32941176, 0.47843137, ..., 0.14901961,\n",
       "         0.17254902, 0.14509804],\n",
       "        ...,\n",
       "        [0.96862745, 0.95686275, 0.96470588, ..., 0.85098039,\n",
       "         0.85098039, 0.8627451 ],\n",
       "        [0.95294118, 0.96078431, 0.96078431, ..., 0.74901961,\n",
       "         0.88627451, 0.84313725],\n",
       "        [0.93333333, 0.96862745, 0.94509804, ..., 0.57647059,\n",
       "         0.82352941, 0.88235294]]])"
      ]
     },
     "execution_count": 81,
     "metadata": {},
     "output_type": "execute_result"
    }
   ],
   "source": [
    "pixel_array_test"
   ]
  },
  {
   "cell_type": "code",
   "execution_count": 106,
   "metadata": {},
   "outputs": [
    {
     "name": "stdout",
     "output_type": "stream",
     "text": [
      "221/221 [==============================] - 3s 15ms/step\n"
     ]
    }
   ],
   "source": [
    "predicciones = model.predict(pixel_array_test)"
   ]
  },
  {
   "cell_type": "code",
   "execution_count": 84,
   "metadata": {},
   "outputs": [
    {
     "data": {
      "text/plain": [
       "7066"
      ]
     },
     "execution_count": 84,
     "metadata": {},
     "output_type": "execute_result"
    }
   ],
   "source": [
    "len(predicciones)"
   ]
  },
  {
   "cell_type": "code",
   "execution_count": 107,
   "metadata": {},
   "outputs": [],
   "source": [
    "pred_labels = np.argmax(predicciones, axis=1)\n"
   ]
  },
  {
   "cell_type": "code",
   "execution_count": 108,
   "metadata": {},
   "outputs": [
    {
     "data": {
      "text/plain": [
       "array([0, 2, 0, ..., 6, 2, 6], dtype=int64)"
      ]
     },
     "execution_count": 108,
     "metadata": {},
     "output_type": "execute_result"
    }
   ],
   "source": [
    "pred_labels"
   ]
  },
  {
   "cell_type": "code",
   "execution_count": null,
   "metadata": {},
   "outputs": [],
   "source": [
    "df_test"
   ]
  },
  {
   "cell_type": "code",
   "execution_count": 109,
   "metadata": {},
   "outputs": [],
   "source": [
    "label_pred = [class_names[pred] for pred in pred_labels]"
   ]
  },
  {
   "cell_type": "code",
   "execution_count": 92,
   "metadata": {},
   "outputs": [
    {
     "data": {
      "text/plain": [
       "7066"
      ]
     },
     "execution_count": 92,
     "metadata": {},
     "output_type": "execute_result"
    }
   ],
   "source": [
    "len(label_pred)"
   ]
  },
  {
   "cell_type": "code",
   "execution_count": 110,
   "metadata": {},
   "outputs": [],
   "source": [
    "submission= pd.DataFrame()"
   ]
  },
  {
   "cell_type": "code",
   "execution_count": 111,
   "metadata": {},
   "outputs": [],
   "source": [
    "submission['id_img']= df_test['id_img']"
   ]
  },
  {
   "cell_type": "code",
   "execution_count": 112,
   "metadata": {},
   "outputs": [],
   "source": [
    "submission['label']=label_pred"
   ]
  },
  {
   "cell_type": "code",
   "execution_count": 96,
   "metadata": {},
   "outputs": [
    {
     "data": {
      "text/html": [
       "<div>\n",
       "<style scoped>\n",
       "    .dataframe tbody tr th:only-of-type {\n",
       "        vertical-align: middle;\n",
       "    }\n",
       "\n",
       "    .dataframe tbody tr th {\n",
       "        vertical-align: top;\n",
       "    }\n",
       "\n",
       "    .dataframe thead th {\n",
       "        text-align: right;\n",
       "    }\n",
       "</style>\n",
       "<table border=\"1\" class=\"dataframe\">\n",
       "  <thead>\n",
       "    <tr style=\"text-align: right;\">\n",
       "      <th></th>\n",
       "      <th>id_img</th>\n",
       "      <th>label</th>\n",
       "    </tr>\n",
       "  </thead>\n",
       "  <tbody>\n",
       "    <tr>\n",
       "      <th>0</th>\n",
       "      <td>10052</td>\n",
       "      <td>sad</td>\n",
       "    </tr>\n",
       "    <tr>\n",
       "      <th>1</th>\n",
       "      <td>10065</td>\n",
       "      <td>fear</td>\n",
       "    </tr>\n",
       "    <tr>\n",
       "      <th>2</th>\n",
       "      <td>10079</td>\n",
       "      <td>neutral</td>\n",
       "    </tr>\n",
       "    <tr>\n",
       "      <th>3</th>\n",
       "      <td>10095</td>\n",
       "      <td>sad</td>\n",
       "    </tr>\n",
       "    <tr>\n",
       "      <th>4</th>\n",
       "      <td>10121</td>\n",
       "      <td>angry</td>\n",
       "    </tr>\n",
       "  </tbody>\n",
       "</table>\n",
       "</div>"
      ],
      "text/plain": [
       "   id_img    label\n",
       "0   10052      sad\n",
       "1   10065     fear\n",
       "2   10079  neutral\n",
       "3   10095      sad\n",
       "4   10121    angry"
      ]
     },
     "execution_count": 96,
     "metadata": {},
     "output_type": "execute_result"
    }
   ],
   "source": [
    "submission.head()"
   ]
  },
  {
   "cell_type": "code",
   "execution_count": 113,
   "metadata": {},
   "outputs": [],
   "source": [
    "submission.to_csv('submission.csv',index=False)"
   ]
  },
  {
   "cell_type": "code",
   "execution_count": 114,
   "metadata": {},
   "outputs": [],
   "source": [
    "import pickle"
   ]
  },
  {
   "cell_type": "code",
   "execution_count": 116,
   "metadata": {},
   "outputs": [],
   "source": [
    "with open('.\\\\cnn_model.pkl', \"wb\") as archivo_salida:\n",
    "    pickle.dump(model, archivo_salida)"
   ]
  }
 ],
 "metadata": {
  "kernelspec": {
   "display_name": "Python 3",
   "language": "python",
   "name": "python3"
  },
  "language_info": {
   "codemirror_mode": {
    "name": "ipython",
    "version": 3
   },
   "file_extension": ".py",
   "mimetype": "text/x-python",
   "name": "python",
   "nbconvert_exporter": "python",
   "pygments_lexer": "ipython3",
   "version": "3.11.5"
  }
 },
 "nbformat": 4,
 "nbformat_minor": 2
}
