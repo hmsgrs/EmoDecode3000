{
 "cells": [
  {
   "cell_type": "code",
   "execution_count": 2,
   "metadata": {},
   "outputs": [
    {
     "name": "stdout",
     "output_type": "stream",
     "text": [
      "WARNING:tensorflow:From c:\\Users\\hugom\\AppData\\Local\\Programs\\Python\\Python311\\Lib\\site-packages\\keras\\src\\losses.py:2976: The name tf.losses.sparse_softmax_cross_entropy is deprecated. Please use tf.compat.v1.losses.sparse_softmax_cross_entropy instead.\n",
      "\n"
     ]
    }
   ],
   "source": [
    "import numpy as np\n",
    "import pandas as pd\n",
    "import matplotlib.pyplot as plt\n",
    "import seaborn as sns\n",
    "import os\n",
    "from tensorflow import keras\n",
    "import cv2\n",
    "from skimage.io import imread\n",
    "from sklearn.metrics import confusion_matrix"
   ]
  },
  {
   "cell_type": "code",
   "execution_count": 8,
   "metadata": {},
   "outputs": [],
   "source": [
    "df= pd.read_csv('.\\\\source\\\\train_set.csv')"
   ]
  },
  {
   "cell_type": "code",
   "execution_count": 12,
   "metadata": {},
   "outputs": [
    {
     "data": {
      "text/html": [
       "<div>\n",
       "<style scoped>\n",
       "    .dataframe tbody tr th:only-of-type {\n",
       "        vertical-align: middle;\n",
       "    }\n",
       "\n",
       "    .dataframe tbody tr th {\n",
       "        vertical-align: top;\n",
       "    }\n",
       "\n",
       "    .dataframe thead th {\n",
       "        text-align: right;\n",
       "    }\n",
       "</style>\n",
       "<table border=\"1\" class=\"dataframe\">\n",
       "  <thead>\n",
       "    <tr style=\"text-align: right;\">\n",
       "      <th></th>\n",
       "      <th>id_img</th>\n",
       "      <th>path</th>\n",
       "      <th>label</th>\n",
       "    </tr>\n",
       "  </thead>\n",
       "  <tbody>\n",
       "    <tr>\n",
       "      <th>28816</th>\n",
       "      <td>9969</td>\n",
       "      <td>../data/images/train/surprise\\9969.jpg</td>\n",
       "      <td>surprise</td>\n",
       "    </tr>\n",
       "    <tr>\n",
       "      <th>28817</th>\n",
       "      <td>9985</td>\n",
       "      <td>../data/images/train/surprise\\9985.jpg</td>\n",
       "      <td>surprise</td>\n",
       "    </tr>\n",
       "    <tr>\n",
       "      <th>28818</th>\n",
       "      <td>9990</td>\n",
       "      <td>../data/images/train/surprise\\9990.jpg</td>\n",
       "      <td>surprise</td>\n",
       "    </tr>\n",
       "    <tr>\n",
       "      <th>28819</th>\n",
       "      <td>9992</td>\n",
       "      <td>../data/images/train/surprise\\9992.jpg</td>\n",
       "      <td>surprise</td>\n",
       "    </tr>\n",
       "    <tr>\n",
       "      <th>28820</th>\n",
       "      <td>9996</td>\n",
       "      <td>../data/images/train/surprise\\9996.jpg</td>\n",
       "      <td>surprise</td>\n",
       "    </tr>\n",
       "  </tbody>\n",
       "</table>\n",
       "</div>"
      ],
      "text/plain": [
       "       id_img                                    path     label\n",
       "28816    9969  ../data/images/train/surprise\\9969.jpg  surprise\n",
       "28817    9985  ../data/images/train/surprise\\9985.jpg  surprise\n",
       "28818    9990  ../data/images/train/surprise\\9990.jpg  surprise\n",
       "28819    9992  ../data/images/train/surprise\\9992.jpg  surprise\n",
       "28820    9996  ../data/images/train/surprise\\9996.jpg  surprise"
      ]
     },
     "execution_count": 12,
     "metadata": {},
     "output_type": "execute_result"
    }
   ],
   "source": [
    "df.tail()"
   ]
  },
  {
   "cell_type": "code",
   "execution_count": 8,
   "metadata": {},
   "outputs": [
    {
     "data": {
      "text/plain": [
       "label\n",
       "happy       7164\n",
       "neutral     4982\n",
       "sad         4938\n",
       "fear        4103\n",
       "angry       3993\n",
       "surprise    3205\n",
       "disgust      436\n",
       "Name: count, dtype: int64"
      ]
     },
     "execution_count": 8,
     "metadata": {},
     "output_type": "execute_result"
    }
   ],
   "source": [
    "df.value_counts('label')"
   ]
  },
  {
   "cell_type": "markdown",
   "metadata": {},
   "source": [
    "### Cambiar los paths para que cv2.read los entienda"
   ]
  },
  {
   "cell_type": "code",
   "execution_count": 9,
   "metadata": {},
   "outputs": [],
   "source": [
    "df['path'] = df['path'].str.replace('\\\\', '/')\n",
    "df['path'] = df['path'].str.replace('data', './source/data/data')\n",
    "df['path'] = df['path'].str.replace('../', '')"
   ]
  },
  {
   "cell_type": "code",
   "execution_count": 14,
   "metadata": {},
   "outputs": [
    {
     "data": {
      "text/html": [
       "<div>\n",
       "<style scoped>\n",
       "    .dataframe tbody tr th:only-of-type {\n",
       "        vertical-align: middle;\n",
       "    }\n",
       "\n",
       "    .dataframe tbody tr th {\n",
       "        vertical-align: top;\n",
       "    }\n",
       "\n",
       "    .dataframe thead th {\n",
       "        text-align: right;\n",
       "    }\n",
       "</style>\n",
       "<table border=\"1\" class=\"dataframe\">\n",
       "  <thead>\n",
       "    <tr style=\"text-align: right;\">\n",
       "      <th></th>\n",
       "      <th>id_img</th>\n",
       "      <th>path</th>\n",
       "      <th>label</th>\n",
       "    </tr>\n",
       "  </thead>\n",
       "  <tbody>\n",
       "    <tr>\n",
       "      <th>0</th>\n",
       "      <td>0</td>\n",
       "      <td>./source/data/data/images/train/angry/0.jpg</td>\n",
       "      <td>angry</td>\n",
       "    </tr>\n",
       "  </tbody>\n",
       "</table>\n",
       "</div>"
      ],
      "text/plain": [
       "   id_img                                         path  label\n",
       "0       0  ./source/data/data/images/train/angry/0.jpg  angry"
      ]
     },
     "execution_count": 14,
     "metadata": {},
     "output_type": "execute_result"
    }
   ],
   "source": [
    "df.head(1)"
   ]
  },
  {
   "cell_type": "markdown",
   "metadata": {},
   "source": [
    "### Función para cargar imágenes como arrays, siguiendo los paths que existen en el archivo de train.\n"
   ]
  },
  {
   "cell_type": "code",
   "execution_count": 10,
   "metadata": {},
   "outputs": [],
   "source": [
    "def cargar_y_convertir_imagen(ruta_imagen):\n",
    "    image = cv2.imread(ruta_imagen, 0)\n",
    "    image_array = np.array(image)\n",
    "    return image_array\n",
    "\n",
    "df['images'] =df['path'].apply(cargar_y_convertir_imagen)"
   ]
  },
  {
   "cell_type": "code",
   "execution_count": null,
   "metadata": {},
   "outputs": [
    {
     "data": {
      "text/html": [
       "<div>\n",
       "<style scoped>\n",
       "    .dataframe tbody tr th:only-of-type {\n",
       "        vertical-align: middle;\n",
       "    }\n",
       "\n",
       "    .dataframe tbody tr th {\n",
       "        vertical-align: top;\n",
       "    }\n",
       "\n",
       "    .dataframe thead th {\n",
       "        text-align: right;\n",
       "    }\n",
       "</style>\n",
       "<table border=\"1\" class=\"dataframe\">\n",
       "  <thead>\n",
       "    <tr style=\"text-align: right;\">\n",
       "      <th></th>\n",
       "      <th>id_img</th>\n",
       "      <th>path</th>\n",
       "      <th>label</th>\n",
       "      <th>images</th>\n",
       "    </tr>\n",
       "  </thead>\n",
       "  <tbody>\n",
       "    <tr>\n",
       "      <th>0</th>\n",
       "      <td>0</td>\n",
       "      <td>./source/data/data/images/train/angry/0.jpg</td>\n",
       "      <td>angry</td>\n",
       "      <td>[[72, 78, 81, 75, 59, 54, 63, 61, 55, 55, 62, ...</td>\n",
       "    </tr>\n",
       "    <tr>\n",
       "      <th>1</th>\n",
       "      <td>1</td>\n",
       "      <td>./source/data/data/images/train/angry/1.jpg</td>\n",
       "      <td>angry</td>\n",
       "      <td>[[152, 149, 147, 157, 146, 133, 114, 138, 170,...</td>\n",
       "    </tr>\n",
       "    <tr>\n",
       "      <th>2</th>\n",
       "      <td>10</td>\n",
       "      <td>./source/data/data/images/train/angry/10.jpg</td>\n",
       "      <td>angry</td>\n",
       "      <td>[[29, 25, 21, 23, 26, 24, 49, 67, 85, 101, 121...</td>\n",
       "    </tr>\n",
       "    <tr>\n",
       "      <th>3</th>\n",
       "      <td>10002</td>\n",
       "      <td>./source/data/data/images/train/angry/10002.jpg</td>\n",
       "      <td>angry</td>\n",
       "      <td>[[32, 23, 20, 56, 43, 34, 38, 46, 92, 99, 34, ...</td>\n",
       "    </tr>\n",
       "    <tr>\n",
       "      <th>4</th>\n",
       "      <td>10016</td>\n",
       "      <td>./source/data/data/images/train/angry/10016.jpg</td>\n",
       "      <td>angry</td>\n",
       "      <td>[[222, 218, 202, 189, 199, 208, 193, 134, 103,...</td>\n",
       "    </tr>\n",
       "  </tbody>\n",
       "</table>\n",
       "</div>"
      ],
      "text/plain": [
       "   id_img                                             path  label  \\\n",
       "0       0      ./source/data/data/images/train/angry/0.jpg  angry   \n",
       "1       1      ./source/data/data/images/train/angry/1.jpg  angry   \n",
       "2      10     ./source/data/data/images/train/angry/10.jpg  angry   \n",
       "3   10002  ./source/data/data/images/train/angry/10002.jpg  angry   \n",
       "4   10016  ./source/data/data/images/train/angry/10016.jpg  angry   \n",
       "\n",
       "                                              images  \n",
       "0  [[72, 78, 81, 75, 59, 54, 63, 61, 55, 55, 62, ...  \n",
       "1  [[152, 149, 147, 157, 146, 133, 114, 138, 170,...  \n",
       "2  [[29, 25, 21, 23, 26, 24, 49, 67, 85, 101, 121...  \n",
       "3  [[32, 23, 20, 56, 43, 34, 38, 46, 92, 99, 34, ...  \n",
       "4  [[222, 218, 202, 189, 199, 208, 193, 134, 103,...  "
      ]
     },
     "execution_count": 16,
     "metadata": {},
     "output_type": "execute_result"
    }
   ],
   "source": [
    "df.head()"
   ]
  },
  {
   "cell_type": "code",
   "execution_count": 7,
   "metadata": {},
   "outputs": [],
   "source": [
    "df.to_csv('train_images.csv')"
   ]
  },
  {
   "cell_type": "code",
   "execution_count": 3,
   "metadata": {},
   "outputs": [],
   "source": [
    "df=pd.read_csv('train_images.csv')"
   ]
  },
  {
   "cell_type": "code",
   "execution_count": 4,
   "metadata": {},
   "outputs": [
    {
     "data": {
      "text/html": [
       "<div>\n",
       "<style scoped>\n",
       "    .dataframe tbody tr th:only-of-type {\n",
       "        vertical-align: middle;\n",
       "    }\n",
       "\n",
       "    .dataframe tbody tr th {\n",
       "        vertical-align: top;\n",
       "    }\n",
       "\n",
       "    .dataframe thead th {\n",
       "        text-align: right;\n",
       "    }\n",
       "</style>\n",
       "<table border=\"1\" class=\"dataframe\">\n",
       "  <thead>\n",
       "    <tr style=\"text-align: right;\">\n",
       "      <th></th>\n",
       "      <th>Unnamed: 0</th>\n",
       "      <th>id_img</th>\n",
       "      <th>path</th>\n",
       "      <th>label</th>\n",
       "      <th>images</th>\n",
       "    </tr>\n",
       "  </thead>\n",
       "  <tbody>\n",
       "    <tr>\n",
       "      <th>0</th>\n",
       "      <td>0</td>\n",
       "      <td>0</td>\n",
       "      <td>./source/data/data/images/train/angry/0.jpg</td>\n",
       "      <td>angry</td>\n",
       "      <td>[[ 72  78  81 ...  52  43  40]\\n [ 65  62  59 ...</td>\n",
       "    </tr>\n",
       "  </tbody>\n",
       "</table>\n",
       "</div>"
      ],
      "text/plain": [
       "   Unnamed: 0  id_img                                         path  label  \\\n",
       "0           0       0  ./source/data/data/images/train/angry/0.jpg  angry   \n",
       "\n",
       "                                              images  \n",
       "0  [[ 72  78  81 ...  52  43  40]\\n [ 65  62  59 ...  "
      ]
     },
     "execution_count": 4,
     "metadata": {},
     "output_type": "execute_result"
    }
   ],
   "source": [
    "df.head(1)"
   ]
  },
  {
   "cell_type": "code",
   "execution_count": 11,
   "metadata": {},
   "outputs": [],
   "source": [
    "pixel_array = np.array(df['images'].apply(np.array).tolist())"
   ]
  },
  {
   "cell_type": "code",
   "execution_count": 95,
   "metadata": {},
   "outputs": [
    {
     "data": {
      "text/plain": [
       "(28821, 48, 48)"
      ]
     },
     "execution_count": 95,
     "metadata": {},
     "output_type": "execute_result"
    }
   ],
   "source": [
    "pixel_array.shape"
   ]
  },
  {
   "cell_type": "code",
   "execution_count": 13,
   "metadata": {},
   "outputs": [],
   "source": [
    "pixel_array  = pixel_array / 255.0"
   ]
  },
  {
   "cell_type": "code",
   "execution_count": 96,
   "metadata": {},
   "outputs": [
    {
     "name": "stdout",
     "output_type": "stream",
     "text": [
      "[[0.28235294 0.30588235 0.31764706 ... 0.20392157 0.16862745 0.15686275]\n",
      " [0.25490196 0.24313725 0.23137255 ... 0.21568627 0.20392157 0.17647059]\n",
      " [0.18431373 0.16470588 0.23529412 ... 0.18431373 0.21176471 0.19215686]\n",
      " ...\n",
      " [0.35686275 0.25490196 0.18039216 ... 0.29019608 0.21176471 0.16862745]\n",
      " [0.29803922 0.31372549 0.29803922 ... 0.42352941 0.27058824 0.18039216]\n",
      " [0.30196078 0.29019608 0.31764706 ... 0.41176471 0.42352941 0.32156863]]\n",
      "[[0.28235294 0.30588235 0.31764706 ... 0.20392157 0.16862745 0.15686275]\n",
      " [0.25490196 0.24313725 0.23137255 ... 0.21568627 0.20392157 0.17647059]\n",
      " [0.18431373 0.16470588 0.23529412 ... 0.18431373 0.21176471 0.19215686]\n",
      " ...\n",
      " [0.35686275 0.25490196 0.18039216 ... 0.29019608 0.21176471 0.16862745]\n",
      " [0.29803922 0.31372549 0.29803922 ... 0.42352941 0.27058824 0.18039216]\n",
      " [0.30196078 0.29019608 0.31764706 ... 0.41176471 0.42352941 0.32156863]]\n"
     ]
    },
    {
     "data": {
      "image/png": "[encoded data removed]",
      "text/plain": [
       "<Figure size 640x480 with 1 Axes>"
      ]
     },
     "metadata": {},
     "output_type": "display_data"
    }
   ],
   "source": [
    "import matplotlib.pyplot as plt\n",
    "plt.imshow(pixel_array[0])\n",
    "print(pixel_array[0])\n",
    "print(pixel_array[0])"
   ]
  },
  {
   "cell_type": "code",
   "execution_count": 14,
   "metadata": {},
   "outputs": [
    {
     "data": {
      "text/plain": [
       "{'angry': 0,\n",
       " 'disgust': 1,\n",
       " 'fear': 2,\n",
       " 'happy': 3,\n",
       " 'neutral': 4,\n",
       " 'sad': 5,\n",
       " 'surprise': 6}"
      ]
     },
     "execution_count": 14,
     "metadata": {},
     "output_type": "execute_result"
    }
   ],
   "source": [
    "class_names = ['angry', 'disgust', 'fear', 'happy', 'neutral', 'sad','surprise']\n",
    "class_names_label = {class_name:i for i, class_name in enumerate(class_names)}\n",
    "class_names_label"
   ]
  },
  {
   "cell_type": "code",
   "execution_count": 15,
   "metadata": {},
   "outputs": [],
   "source": [
    "def read_label(path):\n",
    "    y = []\n",
    "\n",
    "    for folder in os.listdir(path):\n",
    "        label = class_names_label[folder]\n",
    "        folder_path = os.path.join(path, folder)\n",
    "\n",
    "        for file in os.listdir(folder_path):\n",
    "\n",
    "            y.append(label)\n",
    "    \n",
    "    return np.array(y)"
   ]
  },
  {
   "cell_type": "code",
   "execution_count": 16,
   "metadata": {},
   "outputs": [],
   "source": [
    "y=read_label('./source/data/data/images/train/')"
   ]
  },
  {
   "cell_type": "code",
   "execution_count": 94,
   "metadata": {},
   "outputs": [
    {
     "data": {
      "text/plain": [
       "(28821,)"
      ]
     },
     "execution_count": 94,
     "metadata": {},
     "output_type": "execute_result"
    }
   ],
   "source": [
    "y.shape"
   ]
  },
  {
   "cell_type": "code",
   "execution_count": 43,
   "metadata": {},
   "outputs": [
    {
     "data": {
      "text/plain": [
       "array([0, 0, 0, ..., 6, 6, 6])"
      ]
     },
     "execution_count": 43,
     "metadata": {},
     "output_type": "execute_result"
    }
   ],
   "source": [
    "y"
   ]
  },
  {
   "cell_type": "code",
   "execution_count": 18,
   "metadata": {},
   "outputs": [],
   "source": [
    "from sklearn.model_selection import train_test_split"
   ]
  },
  {
   "cell_type": "code",
   "execution_count": 84,
   "metadata": {},
   "outputs": [],
   "source": [
    "X_train, X_test, y_train, y_test = train_test_split(pixel_array, y, shuffle=True, random_state=42, test_size=.1)"
   ]
  },
  {
   "cell_type": "code",
   "execution_count": 92,
   "metadata": {},
   "outputs": [
    {
     "data": {
      "text/plain": [
       "array([[[0.19215686, 0.25882353, 0.23921569, ..., 0.41568627,\n",
       "         0.41960784, 0.43921569],\n",
       "        [0.17647059, 0.19607843, 0.17254902, ..., 0.43529412,\n",
       "         0.45098039, 0.43529412],\n",
       "        [0.1372549 , 0.1372549 , 0.11764706, ..., 0.43137255,\n",
       "         0.44313725, 0.37254902],\n",
       "        ...,\n",
       "        [0.42745098, 0.74117647, 0.80784314, ..., 0.2745098 ,\n",
       "         0.26666667, 0.2745098 ],\n",
       "        [0.48235294, 0.6       , 0.82352941, ..., 0.32156863,\n",
       "         0.31372549, 0.29411765],\n",
       "        [0.58039216, 0.49019608, 0.79607843, ..., 0.3254902 ,\n",
       "         0.32941176, 0.32941176]],\n",
       "\n",
       "       [[0.37647059, 0.37647059, 0.37647059, ..., 0.20784314,\n",
       "         0.18823529, 0.19215686],\n",
       "        [0.38039216, 0.39215686, 0.37647059, ..., 0.21176471,\n",
       "         0.20784314, 0.19607843],\n",
       "        [0.39215686, 0.39215686, 0.38823529, ..., 0.23137255,\n",
       "         0.21568627, 0.20392157],\n",
       "        ...,\n",
       "        [0.65098039, 0.69411765, 0.63921569, ..., 0.28235294,\n",
       "         0.27843137, 0.2745098 ],\n",
       "        [0.6627451 , 0.69803922, 0.60392157, ..., 0.27058824,\n",
       "         0.2627451 , 0.24705882],\n",
       "        [0.68627451, 0.69019608, 0.63137255, ..., 0.25490196,\n",
       "         0.24313725, 0.21568627]],\n",
       "\n",
       "       [[0.0627451 , 0.0627451 , 0.05882353, ..., 0.24313725,\n",
       "         0.39607843, 0.37254902],\n",
       "        [0.0627451 , 0.0627451 , 0.05882353, ..., 0.23921569,\n",
       "         0.42352941, 0.41176471],\n",
       "        [0.0627451 , 0.06666667, 0.0627451 , ..., 0.19607843,\n",
       "         0.47843137, 0.4627451 ],\n",
       "        ...,\n",
       "        [0.65882353, 0.64313725, 0.62745098, ..., 0.52941176,\n",
       "         0.52156863, 0.49803922],\n",
       "        [0.64313725, 0.63137255, 0.62745098, ..., 0.56862745,\n",
       "         0.57647059, 0.55294118],\n",
       "        [0.65098039, 0.62745098, 0.62352941, ..., 0.59607843,\n",
       "         0.59215686, 0.58823529]],\n",
       "\n",
       "       ...,\n",
       "\n",
       "       [[0.18039216, 0.20392157, 0.35294118, ..., 0.05882353,\n",
       "         0.05490196, 0.05490196],\n",
       "        [0.18039216, 0.16470588, 0.24705882, ..., 0.05882353,\n",
       "         0.05490196, 0.05490196],\n",
       "        [0.18823529, 0.21176471, 0.14901961, ..., 0.05490196,\n",
       "         0.05490196, 0.05098039],\n",
       "        ...,\n",
       "        [0.19215686, 0.30196078, 0.74509804, ..., 0.07058824,\n",
       "         0.07058824, 0.06666667],\n",
       "        [0.14509804, 0.17254902, 0.65098039, ..., 0.06666667,\n",
       "         0.06666667, 0.0627451 ],\n",
       "        [0.15294118, 0.07058824, 0.52941176, ..., 0.0627451 ,\n",
       "         0.05882353, 0.05882353]],\n",
       "\n",
       "       [[0.25490196, 0.2627451 , 0.23921569, ..., 0.21568627,\n",
       "         0.2       , 0.28235294],\n",
       "        [0.2627451 , 0.24313725, 0.23137255, ..., 0.18039216,\n",
       "         0.20784314, 0.28235294],\n",
       "        [0.29019608, 0.25098039, 0.23137255, ..., 0.20784314,\n",
       "         0.22352941, 0.23921569],\n",
       "        ...,\n",
       "        [0.30980392, 0.29803922, 0.28627451, ..., 0.3254902 ,\n",
       "         0.38431373, 0.4       ],\n",
       "        [0.3254902 , 0.30980392, 0.28235294, ..., 0.18039216,\n",
       "         0.25490196, 0.2627451 ],\n",
       "        [0.3254902 , 0.30588235, 0.27058824, ..., 0.19215686,\n",
       "         0.29411765, 0.30980392]],\n",
       "\n",
       "       [[0.45882353, 0.44705882, 0.43921569, ..., 0.87843137,\n",
       "         0.76470588, 0.72156863],\n",
       "        [0.38431373, 0.39215686, 0.38823529, ..., 0.89411765,\n",
       "         0.77647059, 0.7372549 ],\n",
       "        [0.3254902 , 0.3372549 , 0.39607843, ..., 0.8745098 ,\n",
       "         0.81176471, 0.76078431],\n",
       "        ...,\n",
       "        [0.28627451, 0.14117647, 0.0627451 , ..., 0.71764706,\n",
       "         0.75686275, 0.78039216],\n",
       "        [0.38039216, 0.17647059, 0.09019608, ..., 0.70980392,\n",
       "         0.77647059, 0.76470588],\n",
       "        [0.42352941, 0.23137255, 0.11764706, ..., 0.72156863,\n",
       "         0.76470588, 0.75686275]]])"
      ]
     },
     "execution_count": 92,
     "metadata": {},
     "output_type": "execute_result"
    }
   ],
   "source": [
    "X_train"
   ]
  },
  {
   "cell_type": "code",
   "execution_count": 93,
   "metadata": {},
   "outputs": [
    {
     "data": {
      "text/plain": [
       "array([3, 6, 0, ..., 0, 4, 5])"
      ]
     },
     "execution_count": 93,
     "metadata": {},
     "output_type": "execute_result"
    }
   ],
   "source": [
    "y_train"
   ]
  },
  {
   "cell_type": "code",
   "execution_count": 98,
   "metadata": {},
   "outputs": [
    {
     "name": "stdout",
     "output_type": "stream",
     "text": [
      "[[0.19215686 0.25882353 0.23921569 ... 0.41568627 0.41960784 0.43921569]\n",
      " [0.17647059 0.19607843 0.17254902 ... 0.43529412 0.45098039 0.43529412]\n",
      " [0.1372549  0.1372549  0.11764706 ... 0.43137255 0.44313725 0.37254902]\n",
      " ...\n",
      " [0.42745098 0.74117647 0.80784314 ... 0.2745098  0.26666667 0.2745098 ]\n",
      " [0.48235294 0.6        0.82352941 ... 0.32156863 0.31372549 0.29411765]\n",
      " [0.58039216 0.49019608 0.79607843 ... 0.3254902  0.32941176 0.32941176]]\n",
      "3\n"
     ]
    },
    {
     "data": {
      "image/png": "[encoded data removed]",
      "text/plain": [
       "<Figure size 640x480 with 1 Axes>"
      ]
     },
     "metadata": {},
     "output_type": "display_data"
    }
   ],
   "source": [
    "plt.imshow(X_train[0])\n",
    "print(X_train[0])\n",
    "print(y_train[0])\n"
   ]
  },
  {
   "cell_type": "code",
   "execution_count": 32,
   "metadata": {},
   "outputs": [],
   "source": [
    "model = keras.Sequential([\n",
    "    keras.layers.Conv2D(128,(3,3), activation=\"relu\", input_shape=(48, 48, 1)),\n",
    "    keras.layers.MaxPooling2D(2,2),\n",
    "    keras.layers.Dropout(0.1),\n",
    "\n",
    "    keras.layers.Conv2D(64,(3,3), activation=\"relu\"),\n",
    "    keras.layers.MaxPooling2D(2,2),\n",
    "    keras.layers.Dropout(0.1),\n",
    "\n",
    "    keras.layers.Conv2D(64,(3,3), activation=\"relu\"),\n",
    "    keras.layers.MaxPooling2D(2,2),\n",
    "    keras.layers.Dropout(0.1),\n",
    "\n",
    "    keras.layers.Flatten(),\n",
    "    keras.layers.Dense(128, activation=\"relu\"),\n",
    "    keras.layers.Dense(32, activation=\"relu\"),\n",
    "    keras.layers.Dropout(0.1),\n",
    "    keras.layers.Dense(7, activation=\"softmax\")\n",
    "])"
   ]
  },
  {
   "cell_type": "code",
   "execution_count": null,
   "metadata": {},
   "outputs": [],
   "source": [
    "from tensorflow.keras import regularizers"
   ]
  },
  {
   "cell_type": "code",
   "execution_count": 101,
   "metadata": {},
   "outputs": [],
   "source": [
    "model_new = keras.Sequential([\n",
    "    keras.layers.Conv2D(128, (3,3), activation=\"relu\",input_shape=(48, 48, 1)),\n",
    "    keras.layers.MaxPooling2D(2,2),\n",
    "    keras.layers.Dropout(0.1),\n",
    "\n",
    "    keras.layers.Conv2D(64, (3,3), activation=\"relu\"),\n",
    "    keras.layers.MaxPooling2D(2,2),\n",
    "    keras.layers.Dropout(0.1),\n",
    "\n",
    "    keras.layers.Conv2D(64, (3,3), activation=\"relu\"),\n",
    "    keras.layers.MaxPooling2D(2,2),\n",
    "    keras.layers.Dropout(0.1),\n",
    "\n",
    "    keras.layers.Conv2D(32, (3,3), activation=\"relu\"),\n",
    "    keras.layers.MaxPooling2D(2,2),\n",
    "    keras.layers.Dropout(0.1),\n",
    "\n",
    "    keras.layers.Flatten(),\n",
    "    keras.layers.Dense(128, activation=\"relu\"),\n",
    "    keras.layers.Dense(64, activation=\"relu\"),\n",
    "    keras.layers.Dense(32, activation=\"relu\"),\n",
    "    keras.layers.Dropout(0.1),\n",
    "    keras.layers.Dense(7, activation=\"softmax\")\n",
    "])\n"
   ]
  },
  {
   "cell_type": "code",
   "execution_count": 33,
   "metadata": {},
   "outputs": [
    {
     "name": "stdout",
     "output_type": "stream",
     "text": [
      "WARNING:tensorflow:From c:\\Users\\hugom\\AppData\\Local\\Programs\\Python\\Python311\\Lib\\site-packages\\keras\\src\\optimizers\\__init__.py:309: The name tf.train.Optimizer is deprecated. Please use tf.compat.v1.train.Optimizer instead.\n",
      "\n"
     ]
    }
   ],
   "source": [
    "model.compile(optimizer='adam', loss=\"sparse_categorical_crossentropy\", metrics=['accuracy'])"
   ]
  },
  {
   "cell_type": "code",
   "execution_count": 102,
   "metadata": {},
   "outputs": [],
   "source": [
    "\n",
    "model_new.compile(optimizer=keras.optimizers.Adam(learning_rate=0.001), loss=\"sparse_categorical_crossentropy\", metrics=['accuracy'])"
   ]
  },
  {
   "cell_type": "code",
   "execution_count": 115,
   "metadata": {},
   "outputs": [
    {
     "data": {
      "text/plain": [
       "(25938, 48, 48)"
      ]
     },
     "execution_count": 115,
     "metadata": {},
     "output_type": "execute_result"
    }
   ],
   "source": [
    "X_train.shape"
   ]
  },
  {
   "cell_type": "code",
   "execution_count": 117,
   "metadata": {},
   "outputs": [],
   "source": [
    "# COPY\n",
    "# Experimenta con técnicas de aumento de datos, como rotación, traslación y cambio de escala para aumentar la variabilidad del train.\n",
    "from tensorflow.keras.preprocessing.image import ImageDataGenerator\n",
    "\n",
    "datagen = ImageDataGenerator(rotation_range=20, width_shift_range=0.2, height_shift_range=0.2, shear_range=0.2, zoom_range=0.2, horizontal_flip=True)\n",
    "\n",
    "datagen.fit(X_train.reshape(25938, 48, 48, 1))"
   ]
  },
  {
   "cell_type": "code",
   "execution_count": 99,
   "metadata": {},
   "outputs": [],
   "source": [
    "from keras.callbacks import EarlyStopping\n",
    "earlystop = EarlyStopping(monitor= 'val_accuracy', patience=6)"
   ]
  },
  {
   "cell_type": "code",
   "execution_count": null,
   "metadata": {},
   "outputs": [],
   "source": [
    "history = model.fit(X_train, \n",
    "                            y_train, \n",
    "                            batch_size=256, \n",
    "                            callbacks = [earlystop],\n",
    "                            epochs=20, \n",
    "                            validation_split=0.2)"
   ]
  },
  {
   "cell_type": "code",
   "execution_count": 130,
   "metadata": {},
   "outputs": [
    {
     "name": "stdout",
     "output_type": "stream",
     "text": [
      "Epoch 1/10\n",
      "102/102 [==============================] - 53s 522ms/step - loss: 1.3132 - accuracy: 0.4995 - val_loss: 1.1319 - val_accuracy: 0.5772\n",
      "Epoch 2/10\n",
      "102/102 [==============================] - 55s 535ms/step - loss: 1.3128 - accuracy: 0.4985 - val_loss: 1.1081 - val_accuracy: 0.5765\n",
      "Epoch 3/10\n",
      "102/102 [==============================] - 50s 487ms/step - loss: 1.3104 - accuracy: 0.4993 - val_loss: 1.1248 - val_accuracy: 0.5695\n",
      "Epoch 4/10\n",
      "102/102 [==============================] - 53s 514ms/step - loss: 1.3132 - accuracy: 0.4990 - val_loss: 1.1130 - val_accuracy: 0.5695\n",
      "Epoch 5/10\n",
      "102/102 [==============================] - 49s 479ms/step - loss: 1.3027 - accuracy: 0.5020 - val_loss: 1.1095 - val_accuracy: 0.5789\n",
      "Epoch 6/10\n",
      "102/102 [==============================] - 46s 452ms/step - loss: 1.3031 - accuracy: 0.5065 - val_loss: 1.1330 - val_accuracy: 0.5737\n",
      "Epoch 7/10\n",
      "102/102 [==============================] - 46s 447ms/step - loss: 1.3055 - accuracy: 0.5024 - val_loss: 1.1243 - val_accuracy: 0.5734\n",
      "Epoch 8/10\n",
      "102/102 [==============================] - 46s 448ms/step - loss: 1.2978 - accuracy: 0.5029 - val_loss: 1.1068 - val_accuracy: 0.5817\n",
      "Epoch 9/10\n",
      "102/102 [==============================] - 46s 447ms/step - loss: 1.2967 - accuracy: 0.5061 - val_loss: 1.1114 - val_accuracy: 0.5793\n",
      "Epoch 10/10\n",
      "102/102 [==============================] - 46s 454ms/step - loss: 1.3035 - accuracy: 0.5029 - val_loss: 1.1147 - val_accuracy: 0.5754\n"
     ]
    }
   ],
   "source": [
    "history_generator= model_new.fit(datagen.flow(X_train.reshape(25938, 48, 48, 1), y_train, batch_size=256), epochs=10, validation_data=(X_test, y_test))"
   ]
  },
  {
   "cell_type": "markdown",
   "metadata": {},
   "source": [
    "Epoch 1/5\n",
    "102/102 [==============================] - 46s 447ms/step - loss: 1.3248 - accuracy: 0.4959 - val_loss: 1.1245 - val_accuracy: 0.5671\n",
    "Epoch 2/5\n",
    "102/102 [==============================] - 53s 515ms/step - loss: 1.3167 - accuracy: 0.4940 - val_loss: 1.1285 - val_accuracy: 0.5654\n",
    "Epoch 3/5\n",
    "102/102 [==============================] - 52s 508ms/step - loss: 1.3160 - accuracy: 0.4945 - val_loss: 1.1211 - val_accuracy: 0.5713\n",
    "Epoch 4/5\n",
    "102/102 [==============================] - 63s 620ms/step - loss: 1.3111 - accuracy: 0.4984 - val_loss: 1.1393 - val_accuracy: 0.5661\n",
    "Epoch 5/5\n",
    "102/102 [==============================] - 83s 808ms/step - loss: 1.3180 - accuracy: 0.4923 - val_loss: 1.1295 - val_accuracy: 0.5768"
   ]
  },
  {
   "cell_type": "code",
   "execution_count": 103,
   "metadata": {},
   "outputs": [
    {
     "name": "stdout",
     "output_type": "stream",
     "text": [
      "Epoch 1/30\n",
      "82/82 [==============================] - 39s 466ms/step - loss: 1.8457 - accuracy: 0.2311 - val_loss: 1.8359 - val_accuracy: 0.2419\n",
      "Epoch 2/30\n",
      "82/82 [==============================] - 37s 456ms/step - loss: 1.8184 - accuracy: 0.2417 - val_loss: 1.8084 - val_accuracy: 0.2454\n",
      "Epoch 3/30\n",
      "82/82 [==============================] - 37s 456ms/step - loss: 1.8051 - accuracy: 0.2463 - val_loss: 1.7952 - val_accuracy: 0.2490\n",
      "Epoch 4/30\n",
      "82/82 [==============================] - 38s 459ms/step - loss: 1.7790 - accuracy: 0.2564 - val_loss: 1.7248 - val_accuracy: 0.2868\n",
      "Epoch 5/30\n",
      "82/82 [==============================] - 38s 458ms/step - loss: 1.6741 - accuracy: 0.3254 - val_loss: 1.6265 - val_accuracy: 0.3639\n",
      "Epoch 6/30\n",
      "82/82 [==============================] - 38s 457ms/step - loss: 1.5847 - accuracy: 0.3735 - val_loss: 1.5096 - val_accuracy: 0.4109\n",
      "Epoch 7/30\n",
      "82/82 [==============================] - 37s 456ms/step - loss: 1.5147 - accuracy: 0.4045 - val_loss: 1.4370 - val_accuracy: 0.4456\n",
      "Epoch 8/30\n",
      "82/82 [==============================] - 38s 459ms/step - loss: 1.4585 - accuracy: 0.4318 - val_loss: 1.3955 - val_accuracy: 0.4526\n",
      "Epoch 9/30\n",
      "82/82 [==============================] - 37s 455ms/step - loss: 1.4110 - accuracy: 0.4498 - val_loss: 1.3457 - val_accuracy: 0.4796\n",
      "Epoch 10/30\n",
      "82/82 [==============================] - 37s 457ms/step - loss: 1.3872 - accuracy: 0.4635 - val_loss: 1.3296 - val_accuracy: 0.4909\n",
      "Epoch 11/30\n",
      "82/82 [==============================] - 38s 457ms/step - loss: 1.3561 - accuracy: 0.4789 - val_loss: 1.2907 - val_accuracy: 0.5023\n",
      "Epoch 12/30\n",
      "82/82 [==============================] - 38s 457ms/step - loss: 1.3412 - accuracy: 0.4828 - val_loss: 1.2944 - val_accuracy: 0.5083\n",
      "Epoch 13/30\n",
      "82/82 [==============================] - 37s 456ms/step - loss: 1.3211 - accuracy: 0.4928 - val_loss: 1.2653 - val_accuracy: 0.5210\n",
      "Epoch 14/30\n",
      "82/82 [==============================] - 38s 458ms/step - loss: 1.2978 - accuracy: 0.5053 - val_loss: 1.2631 - val_accuracy: 0.5195\n",
      "Epoch 15/30\n",
      "82/82 [==============================] - 37s 455ms/step - loss: 1.2695 - accuracy: 0.5148 - val_loss: 1.2423 - val_accuracy: 0.5274\n",
      "Epoch 16/30\n",
      "82/82 [==============================] - 38s 462ms/step - loss: 1.2649 - accuracy: 0.5118 - val_loss: 1.2362 - val_accuracy: 0.5276\n",
      "Epoch 17/30\n",
      "82/82 [==============================] - 38s 460ms/step - loss: 1.2443 - accuracy: 0.5255 - val_loss: 1.2468 - val_accuracy: 0.5235\n",
      "Epoch 18/30\n",
      "82/82 [==============================] - 37s 456ms/step - loss: 1.2223 - accuracy: 0.5306 - val_loss: 1.2414 - val_accuracy: 0.5247\n",
      "Epoch 19/30\n",
      "82/82 [==============================] - 37s 457ms/step - loss: 1.2154 - accuracy: 0.5369 - val_loss: 1.2124 - val_accuracy: 0.5409\n",
      "Epoch 20/30\n",
      "82/82 [==============================] - 38s 457ms/step - loss: 1.2041 - accuracy: 0.5409 - val_loss: 1.2202 - val_accuracy: 0.5370\n",
      "Epoch 21/30\n",
      "82/82 [==============================] - 37s 455ms/step - loss: 1.1918 - accuracy: 0.5471 - val_loss: 1.2122 - val_accuracy: 0.5416\n",
      "Epoch 22/30\n",
      "82/82 [==============================] - 38s 460ms/step - loss: 1.1899 - accuracy: 0.5487 - val_loss: 1.1824 - val_accuracy: 0.5526\n",
      "Epoch 23/30\n",
      "82/82 [==============================] - 37s 456ms/step - loss: 1.1717 - accuracy: 0.5532 - val_loss: 1.1915 - val_accuracy: 0.5480\n",
      "Epoch 24/30\n",
      "82/82 [==============================] - 38s 458ms/step - loss: 1.1671 - accuracy: 0.5535 - val_loss: 1.2000 - val_accuracy: 0.5445\n",
      "Epoch 25/30\n",
      "82/82 [==============================] - 37s 456ms/step - loss: 1.1542 - accuracy: 0.5584 - val_loss: 1.1895 - val_accuracy: 0.5517\n",
      "Epoch 26/30\n",
      "82/82 [==============================] - 38s 458ms/step - loss: 1.1413 - accuracy: 0.5646 - val_loss: 1.1730 - val_accuracy: 0.5534\n",
      "Epoch 27/30\n",
      "82/82 [==============================] - 38s 463ms/step - loss: 1.1271 - accuracy: 0.5691 - val_loss: 1.1930 - val_accuracy: 0.5459\n",
      "Epoch 28/30\n",
      "82/82 [==============================] - 37s 455ms/step - loss: 1.1379 - accuracy: 0.5657 - val_loss: 1.1853 - val_accuracy: 0.5553\n",
      "Epoch 29/30\n",
      "82/82 [==============================] - 37s 445ms/step - loss: 1.1161 - accuracy: 0.5748 - val_loss: 1.1717 - val_accuracy: 0.5553\n",
      "Epoch 30/30\n",
      "82/82 [==============================] - 36s 443ms/step - loss: 1.1027 - accuracy: 0.5824 - val_loss: 1.1721 - val_accuracy: 0.5486\n"
     ]
    }
   ],
   "source": [
    "history_new = model_new.fit(X_train,\n",
    "                            y_train, \n",
    "                            batch_size=256, \n",
    "                            callbacks = [earlystop],\n",
    "                            epochs=30, \n",
    "                            validation_split=0.2)\n",
    "\n"
   ]
  },
  {
   "cell_type": "code",
   "execution_count": 104,
   "metadata": {},
   "outputs": [
    {
     "data": {
      "text/plain": [
       "<matplotlib.legend.Legend at 0x1e7062ff3d0>"
      ]
     },
     "execution_count": 104,
     "metadata": {},
     "output_type": "execute_result"
    },
    {
     "data": {
      "image/png": "[encoded data removed]",
      "text/plain": [
       "<Figure size 640x480 with 1 Axes>"
      ]
     },
     "metadata": {},
     "output_type": "display_data"
    }
   ],
   "source": [
    "df_hist = pd.DataFrame(history_new.history, index=np.arange(1,31))\n",
    "\n",
    "plt.plot(df_hist['val_accuracy'], label=\"Val Accuracy\")\n",
    "plt.plot(df_hist['accuracy'], label=\"Train Accuracy\")\n",
    "plt.title(\"Training CNN\")\n",
    "plt.xlabel(\"Epochs\")\n",
    "plt.ylabel(\"Accuracy\")\n",
    "plt.xticks(range(1,31))\n",
    "plt.legend()"
   ]
  },
  {
   "cell_type": "code",
   "execution_count": 51,
   "metadata": {},
   "outputs": [],
   "source": [
    "df_test = pd.read_csv('.\\\\source\\\\test_set.csv')\n",
    " "
   ]
  },
  {
   "cell_type": "code",
   "execution_count": 52,
   "metadata": {},
   "outputs": [
    {
     "data": {
      "text/html": [
       "<div>\n",
       "<style scoped>\n",
       "    .dataframe tbody tr th:only-of-type {\n",
       "        vertical-align: middle;\n",
       "    }\n",
       "\n",
       "    .dataframe tbody tr th {\n",
       "        vertical-align: top;\n",
       "    }\n",
       "\n",
       "    .dataframe thead th {\n",
       "        text-align: right;\n",
       "    }\n",
       "</style>\n",
       "<table border=\"1\" class=\"dataframe\">\n",
       "  <thead>\n",
       "    <tr style=\"text-align: right;\">\n",
       "      <th></th>\n",
       "      <th>id_img</th>\n",
       "    </tr>\n",
       "  </thead>\n",
       "  <tbody>\n",
       "    <tr>\n",
       "      <th>0</th>\n",
       "      <td>10052</td>\n",
       "    </tr>\n",
       "  </tbody>\n",
       "</table>\n",
       "</div>"
      ],
      "text/plain": [
       "   id_img\n",
       "0   10052"
      ]
     },
     "execution_count": 52,
     "metadata": {},
     "output_type": "execute_result"
    }
   ],
   "source": [
    "df_test.head(1)"
   ]
  },
  {
   "cell_type": "code",
   "execution_count": 85,
   "metadata": {},
   "outputs": [
    {
     "data": {
      "text/plain": [
       "(7066, 3)"
      ]
     },
     "execution_count": 85,
     "metadata": {},
     "output_type": "execute_result"
    }
   ],
   "source": [
    "df_test.shape"
   ]
  },
  {
   "cell_type": "code",
   "execution_count": 53,
   "metadata": {},
   "outputs": [],
   "source": [
    "def agregar_rutas_imagenes(df, ruta_carpeta):\n",
    "\n",
    "    rutas_imagenes = []\n",
    "    for idx, fila in df.iterrows():\n",
    "        id_imagen = fila['id_img'] \n",
    "        nombre_imagen = f\"{id_imagen}.jpg\" \n",
    "        ruta_imagen = os.path.join(ruta_carpeta, nombre_imagen)\n",
    "        rutas_imagenes.append(ruta_imagen)\n",
    "\n",
    "    df['RutaImagen'] = rutas_imagenes\n",
    "\n",
    "ruta_carpeta_imagenes = './source/data/data/images/test/'\n",
    "\n",
    "agregar_rutas_imagenes(df_test, ruta_carpeta_imagenes)"
   ]
  },
  {
   "cell_type": "code",
   "execution_count": 54,
   "metadata": {},
   "outputs": [
    {
     "data": {
      "text/html": [
       "<div>\n",
       "<style scoped>\n",
       "    .dataframe tbody tr th:only-of-type {\n",
       "        vertical-align: middle;\n",
       "    }\n",
       "\n",
       "    .dataframe tbody tr th {\n",
       "        vertical-align: top;\n",
       "    }\n",
       "\n",
       "    .dataframe thead th {\n",
       "        text-align: right;\n",
       "    }\n",
       "</style>\n",
       "<table border=\"1\" class=\"dataframe\">\n",
       "  <thead>\n",
       "    <tr style=\"text-align: right;\">\n",
       "      <th></th>\n",
       "      <th>id_img</th>\n",
       "      <th>RutaImagen</th>\n",
       "    </tr>\n",
       "  </thead>\n",
       "  <tbody>\n",
       "    <tr>\n",
       "      <th>0</th>\n",
       "      <td>10052</td>\n",
       "      <td>./source/data/data/images/test/10052.jpg</td>\n",
       "    </tr>\n",
       "  </tbody>\n",
       "</table>\n",
       "</div>"
      ],
      "text/plain": [
       "   id_img                                RutaImagen\n",
       "0   10052  ./source/data/data/images/test/10052.jpg"
      ]
     },
     "execution_count": 54,
     "metadata": {},
     "output_type": "execute_result"
    }
   ],
   "source": [
    "df_test.head(1)"
   ]
  },
  {
   "cell_type": "code",
   "execution_count": 55,
   "metadata": {},
   "outputs": [],
   "source": [
    "df_test['images'] =df_test['RutaImagen'].apply(cargar_y_convertir_imagen)"
   ]
  },
  {
   "cell_type": "code",
   "execution_count": 56,
   "metadata": {},
   "outputs": [],
   "source": [
    "pixel_array_test = np.array(df_test['images'].apply(np.array).tolist())"
   ]
  },
  {
   "cell_type": "code",
   "execution_count": 57,
   "metadata": {},
   "outputs": [],
   "source": [
    "pixel_array_test  = pixel_array_test /255"
   ]
  },
  {
   "cell_type": "code",
   "execution_count": 58,
   "metadata": {},
   "outputs": [
    {
     "data": {
      "text/plain": [
       "array([[[0.22745098, 0.25882353, 0.2745098 , ..., 0.2       ,\n",
       "         0.18431373, 0.1372549 ],\n",
       "        [0.24313725, 0.25098039, 0.28627451, ..., 0.23137255,\n",
       "         0.2       , 0.16470588],\n",
       "        [0.25882353, 0.27058824, 0.34117647, ..., 0.22745098,\n",
       "         0.21176471, 0.20784314],\n",
       "        ...,\n",
       "        [0.03137255, 0.05882353, 0.0745098 , ..., 0.01960784,\n",
       "         0.02745098, 0.03137255],\n",
       "        [0.02352941, 0.05490196, 0.06666667, ..., 0.01568627,\n",
       "         0.02745098, 0.03921569],\n",
       "        [0.03137255, 0.05882353, 0.07843137, ..., 0.01960784,\n",
       "         0.02745098, 0.03529412]],\n",
       "\n",
       "       [[0.09019608, 0.10196078, 0.08235294, ..., 0.85098039,\n",
       "         0.8627451 , 0.85490196],\n",
       "        [0.09803922, 0.14117647, 0.0627451 , ..., 0.81960784,\n",
       "         0.79607843, 0.81568627],\n",
       "        [0.11764706, 0.10980392, 0.04313725, ..., 0.70196078,\n",
       "         0.83921569, 0.96078431],\n",
       "        ...,\n",
       "        [0.18823529, 0.16862745, 0.21568627, ..., 0.8745098 ,\n",
       "         0.87058824, 0.87058824],\n",
       "        [0.14117647, 0.07843137, 0.25098039, ..., 0.98823529,\n",
       "         1.        , 1.        ],\n",
       "        [0.23137255, 0.21960784, 0.18039216, ..., 0.98823529,\n",
       "         0.98823529, 0.99215686]],\n",
       "\n",
       "       [[0.78823529, 0.71372549, 0.71372549, ..., 0.80392157,\n",
       "         0.94117647, 0.9372549 ],\n",
       "        [0.79215686, 0.72156863, 0.70980392, ..., 0.83529412,\n",
       "         0.94509804, 0.92941176],\n",
       "        [0.80392157, 0.74509804, 0.71764706, ..., 0.85882353,\n",
       "         0.9372549 , 0.9372549 ],\n",
       "        ...,\n",
       "        [0.61960784, 0.69803922, 0.76862745, ..., 0.79607843,\n",
       "         0.85882353, 0.83921569],\n",
       "        [0.61176471, 0.65882353, 0.78039216, ..., 0.78823529,\n",
       "         0.83529412, 0.76078431],\n",
       "        [0.68235294, 0.54901961, 0.72156863, ..., 0.74509804,\n",
       "         0.78039216, 0.81176471]],\n",
       "\n",
       "       ...,\n",
       "\n",
       "       [[0.98039216, 0.99215686, 0.99215686, ..., 0.91764706,\n",
       "         0.90588235, 0.91764706],\n",
       "        [0.98431373, 0.98039216, 0.98039216, ..., 0.91764706,\n",
       "         0.90980392, 0.92156863],\n",
       "        [0.98039216, 0.97254902, 0.98039216, ..., 0.91764706,\n",
       "         0.90980392, 0.91372549],\n",
       "        ...,\n",
       "        [0.7372549 , 0.49411765, 0.16078431, ..., 0.19607843,\n",
       "         0.24705882, 0.35294118],\n",
       "        [0.42745098, 0.30588235, 0.10588235, ..., 0.45098039,\n",
       "         0.47058824, 0.62352941],\n",
       "        [0.47843137, 0.29019608, 0.09803922, ..., 0.4627451 ,\n",
       "         0.33333333, 0.39607843]],\n",
       "\n",
       "       [[0.89411765, 0.87843137, 0.89019608, ..., 0.51372549,\n",
       "         0.64705882, 0.2627451 ],\n",
       "        [0.83921569, 0.82352941, 0.85490196, ..., 0.4       ,\n",
       "         0.57254902, 0.23921569],\n",
       "        [0.81960784, 0.77647059, 0.81960784, ..., 0.37254902,\n",
       "         0.42745098, 0.16078431],\n",
       "        ...,\n",
       "        [0.97254902, 0.96862745, 0.96862745, ..., 0.25490196,\n",
       "         0.68235294, 0.95686275],\n",
       "        [0.98039216, 0.97647059, 0.97647059, ..., 0.21176471,\n",
       "         0.69803922, 0.91372549],\n",
       "        [0.98039216, 0.97647059, 0.97254902, ..., 0.2       ,\n",
       "         0.7254902 , 0.89803922]],\n",
       "\n",
       "       [[0.30588235, 0.45490196, 0.38431373, ..., 0.28627451,\n",
       "         0.29019608, 0.16078431],\n",
       "        [0.44313725, 0.4745098 , 0.34117647, ..., 0.21568627,\n",
       "         0.15686275, 0.23529412],\n",
       "        [0.45490196, 0.32941176, 0.47843137, ..., 0.14901961,\n",
       "         0.17254902, 0.14509804],\n",
       "        ...,\n",
       "        [0.96862745, 0.95686275, 0.96470588, ..., 0.85098039,\n",
       "         0.85098039, 0.8627451 ],\n",
       "        [0.95294118, 0.96078431, 0.96078431, ..., 0.74901961,\n",
       "         0.88627451, 0.84313725],\n",
       "        [0.93333333, 0.96862745, 0.94509804, ..., 0.57647059,\n",
       "         0.82352941, 0.88235294]]])"
      ]
     },
     "execution_count": 58,
     "metadata": {},
     "output_type": "execute_result"
    }
   ],
   "source": [
    "pixel_array_test"
   ]
  },
  {
   "cell_type": "code",
   "execution_count": 131,
   "metadata": {},
   "outputs": [
    {
     "name": "stdout",
     "output_type": "stream",
     "text": [
      "221/221 [==============================] - 3s 14ms/step\n"
     ]
    }
   ],
   "source": [
    "predicciones = model_new.predict(pixel_array_test)"
   ]
  },
  {
   "cell_type": "code",
   "execution_count": 106,
   "metadata": {},
   "outputs": [
    {
     "data": {
      "text/plain": [
       "7066"
      ]
     },
     "execution_count": 106,
     "metadata": {},
     "output_type": "execute_result"
    }
   ],
   "source": [
    "len(predicciones)"
   ]
  },
  {
   "cell_type": "code",
   "execution_count": 132,
   "metadata": {},
   "outputs": [],
   "source": [
    "pred_labels = np.argmax(predicciones, axis=1)\n"
   ]
  },
  {
   "cell_type": "code",
   "execution_count": 133,
   "metadata": {},
   "outputs": [
    {
     "data": {
      "text/plain": [
       "array([0, 5, 0, ..., 6, 3, 2], dtype=int64)"
      ]
     },
     "execution_count": 133,
     "metadata": {},
     "output_type": "execute_result"
    }
   ],
   "source": [
    "pred_labels"
   ]
  },
  {
   "cell_type": "code",
   "execution_count": null,
   "metadata": {},
   "outputs": [],
   "source": [
    "df_test"
   ]
  },
  {
   "cell_type": "code",
   "execution_count": 123,
   "metadata": {},
   "outputs": [],
   "source": [
    "label_pred = [class_names[pred] for pred in pred_labels]"
   ]
  },
  {
   "cell_type": "code",
   "execution_count": 75,
   "metadata": {},
   "outputs": [
    {
     "data": {
      "text/plain": [
       "7066"
      ]
     },
     "execution_count": 75,
     "metadata": {},
     "output_type": "execute_result"
    }
   ],
   "source": [
    "len(label_pred)"
   ]
  },
  {
   "cell_type": "code",
   "execution_count": 124,
   "metadata": {},
   "outputs": [],
   "source": [
    "submission= pd.DataFrame()"
   ]
  },
  {
   "cell_type": "code",
   "execution_count": 125,
   "metadata": {},
   "outputs": [],
   "source": [
    "submission['id_img']= df_test['id_img']"
   ]
  },
  {
   "cell_type": "code",
   "execution_count": 126,
   "metadata": {},
   "outputs": [],
   "source": [
    "submission['label']=label_pred"
   ]
  },
  {
   "cell_type": "code",
   "execution_count": 127,
   "metadata": {},
   "outputs": [
    {
     "data": {
      "text/html": [
       "<div>\n",
       "<style scoped>\n",
       "    .dataframe tbody tr th:only-of-type {\n",
       "        vertical-align: middle;\n",
       "    }\n",
       "\n",
       "    .dataframe tbody tr th {\n",
       "        vertical-align: top;\n",
       "    }\n",
       "\n",
       "    .dataframe thead th {\n",
       "        text-align: right;\n",
       "    }\n",
       "</style>\n",
       "<table border=\"1\" class=\"dataframe\">\n",
       "  <thead>\n",
       "    <tr style=\"text-align: right;\">\n",
       "      <th></th>\n",
       "      <th>id_img</th>\n",
       "      <th>label</th>\n",
       "    </tr>\n",
       "  </thead>\n",
       "  <tbody>\n",
       "    <tr>\n",
       "      <th>0</th>\n",
       "      <td>10052</td>\n",
       "      <td>sad</td>\n",
       "    </tr>\n",
       "    <tr>\n",
       "      <th>1</th>\n",
       "      <td>10065</td>\n",
       "      <td>sad</td>\n",
       "    </tr>\n",
       "    <tr>\n",
       "      <th>2</th>\n",
       "      <td>10079</td>\n",
       "      <td>angry</td>\n",
       "    </tr>\n",
       "    <tr>\n",
       "      <th>3</th>\n",
       "      <td>10095</td>\n",
       "      <td>angry</td>\n",
       "    </tr>\n",
       "    <tr>\n",
       "      <th>4</th>\n",
       "      <td>10121</td>\n",
       "      <td>angry</td>\n",
       "    </tr>\n",
       "  </tbody>\n",
       "</table>\n",
       "</div>"
      ],
      "text/plain": [
       "   id_img  label\n",
       "0   10052    sad\n",
       "1   10065    sad\n",
       "2   10079  angry\n",
       "3   10095  angry\n",
       "4   10121  angry"
      ]
     },
     "execution_count": 127,
     "metadata": {},
     "output_type": "execute_result"
    }
   ],
   "source": [
    "submission.head()"
   ]
  },
  {
   "cell_type": "code",
   "execution_count": 128,
   "metadata": {},
   "outputs": [],
   "source": [
    "submission.to_csv('submission.csv',index=False)"
   ]
  },
  {
   "cell_type": "code",
   "execution_count": 114,
   "metadata": {},
   "outputs": [],
   "source": [
    "import pickle"
   ]
  },
  {
   "cell_type": "code",
   "execution_count": 116,
   "metadata": {},
   "outputs": [],
   "source": [
    "with open('.\\\\cnn_model.pkl', \"wb\") as archivo_salida:\n",
    "    pickle.dump(model, archivo_salida)"
   ]
  }
 ],
 "metadata": {
  "kernelspec": {
   "display_name": "Python 3",
   "language": "python",
   "name": "python3"
  },
  "language_info": {
   "codemirror_mode": {
    "name": "ipython",
    "version": 3
   },
   "file_extension": ".py",
   "mimetype": "text/x-python",
   "name": "python",
   "nbconvert_exporter": "python",
   "pygments_lexer": "ipython3",
   "version": "3.11.5"
  }
 },
 "nbformat": 4,
 "nbformat_minor": 2
}
